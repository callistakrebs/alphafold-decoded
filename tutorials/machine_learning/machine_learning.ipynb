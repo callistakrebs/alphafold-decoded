{
 "cells": [
  {
   "cell_type": "markdown",
   "metadata": {},
   "source": [
    "## Basic Setup\n",
    "\n",
    "Run the cells below for the basic setup of this notebook."
   ]
  },
  {
   "cell_type": "code",
   "execution_count": 2,
   "metadata": {},
   "outputs": [
    {
     "name": "stdout",
     "output_type": "stream",
     "text": [
      "No colab environment, assuming local setup.\n"
     ]
    }
   ],
   "source": [
    "try:\n",
    "    from google.colab import drive # type: ignore\n",
    "    IN_COLAB = True\n",
    "except:\n",
    "    IN_COLAB = False\n",
    "    print('No colab environment, assuming local setup.')\n",
    "\n",
    "if IN_COLAB:\n",
    "    drive.mount('/content/drive')\n",
    "\n",
    "    # TODO: Enter the foldername in your Drive where you have saved the unzipped\n",
    "    # turorials folder, e.g. 'alphafold-decoded/tutorials'\n",
    "    FOLDERNAME = None\n",
    "    assert FOLDERNAME is not None, \"[!] Enter the foldername.\"\n",
    "\n",
    "    # Now that we've mounted your Drive, this ensures that\n",
    "    # the Python interpreter of the Colab VM can load\n",
    "    # python files from within it.\n",
    "    import sys\n",
    "    sys.path.append('/content/drive/My Drive/{}'.format(FOLDERNAME))\n",
    "    %cd /content/drive/My\\ Drive/$FOLDERNAME\n",
    "\n",
    "    print('Connected COLAB to Google Drive.')\n",
    "\n",
    "import os\n",
    "    \n",
    "base_folder = '../machine_learning'\n",
    "control_folder = f'{base_folder}/control_values'\n",
    "\n",
    "assert os.path.isdir(control_folder), 'Folder \"control_values\" not found, make sure that FOLDERNAME is set correctly.' if IN_COLAB else 'Folder \"control_values\" not found, make sure that your root folder is set correctly.'"
   ]
  },
  {
   "cell_type": "code",
   "execution_count": 3,
   "metadata": {},
   "outputs": [],
   "source": [
    "%load_ext autoreload\n",
    "%autoreload 2\n",
    "%matplotlib inline"
   ]
  },
  {
   "cell_type": "code",
   "execution_count": 5,
   "metadata": {},
   "outputs": [],
   "source": [
    "import torch\n",
    "from feed_forward import TwoLayerNet, train_model\n",
    "import torchvision\n",
    "from torchvision import transforms\n",
    "import os\n",
    "import math\n",
    "from matplotlib import pyplot as plt"
   ]
  },
  {
   "cell_type": "code",
   "execution_count": 76,
   "metadata": {},
   "outputs": [
    {
     "name": "stdout",
     "output_type": "stream",
     "text": [
      "MPS available, using MPS.\n"
     ]
    }
   ],
   "source": [
    "if torch.cuda.is_available():\n",
    "    print('Compatible GPU available, using CUDA.')\n",
    "    device = 'cuda'\n",
    "\n",
    "elif torch.backends.mps.is_available():\n",
    "    print('MPS available, using MPS.')\n",
    "    # data = data.to(torch.device('mps'))\n",
    "\n",
    "    # target = target.to(torch.device('mps'))\n",
    "\n",
    "    # model.to(torch.device(\"mps\"))\n",
    "    device = 'mps'\n",
    "else:\n",
    "    print('No compatible GPU available. Using CPU.')\n",
    "    device = 'cpu'"
   ]
  },
  {
   "cell_type": "markdown",
   "metadata": {},
   "source": [
    "# Introduction to Machine Learning\n",
    "\n",
    "In this section, we wilil implement a simple two-layer fully-connected Neural Network and apply it to the MNIST digit classification task we performed before in the tensor introduction.\n",
    "\n",
    "For that, we will first implement some layers (affine linear, sigmoid and relu) and then assemble those layers into a classifier. \n",
    "\n",
    "The code for the layers will be structured into two methods: a `forward` and a `backward` method. The `forward` method will receive the input tensor and the layer's parameters and will return the output and a cache of all the values necessary for backpropagation. The `backward` method will receive the upstream gradient and the cache from the forward pass and will compute the downstream gradient and the gradients of the layer's parameters. The functions will be in the following format:"
   ]
  },
  {
   "cell_type": "code",
   "execution_count": 77,
   "metadata": {},
   "outputs": [],
   "source": [
    "def layer_forward(x, W):\n",
    "    # Calculation of out depends on the layer formulation\n",
    "    out = ...\n",
    "    # Necessary values depend on the layer formulation\n",
    "    cache = (x, out)\n",
    "    return out, cache\n",
    "\n",
    "def layer_backward(dout, cache):\n",
    "    x, out = cache\n",
    "    dx = ...\n",
    "    # Gradients of the parameters, if the layer has any\n",
    "    dW = ...\n",
    "    return dx, dW"
   ]
  },
  {
   "cell_type": "markdown",
   "metadata": {},
   "source": [
    "We will start with `affine_forward` and `affine_backward`. Head over to `feed_forward.py` and implement the forward and backward pass. Use the following notebook cells to validate your implementation."
   ]
  },
  {
   "cell_type": "code",
   "execution_count": 92,
   "metadata": {},
   "outputs": [
    {
     "name": "stderr",
     "output_type": "stream",
     "text": [
      "/var/folders/0z/xkz34clj6158f543g3k49h3m0000gn/T/ipykernel_23961/1350383151.py:16: FutureWarning: You are using `torch.load` with `weights_only=False` (the current default value), which uses the default pickle module implicitly. It is possible to construct malicious pickle data which will execute arbitrary code during unpickling (See https://github.com/pytorch/pytorch/blob/main/SECURITY.md#untrusted-models for more details). In a future release, the default value for `weights_only` will be flipped to `True`. This limits the functions that could be executed during unpickling. Arbitrary objects will no longer be allowed to be loaded via this mode unless they are explicitly allowlisted by the user via `torch.serialization.add_safe_globals`. We recommend you start setting `weights_only=True` for any use case where you don't have full control of the loaded file. Please open an issue on GitHub for any issues related to this experimental feature.\n",
      "  expected_result = torch.load(f'{control_folder}/affine_forward_out.pt')\n"
     ]
    }
   ],
   "source": [
    "from feed_forward import affine_forward\n",
    "\n",
    "# Check for affine_forward\n",
    "\n",
    "N = 3\n",
    "c_in = 16\n",
    "c_out = 10\n",
    "\n",
    "x = torch.linspace(-4, 4, N*c_in).reshape((N, c_in))\n",
    "W = torch.linspace(-4, 4, c_in*c_out).reshape((c_out, c_in))\n",
    "b = torch.linspace(-4, 4, c_out)\n",
    "\n",
    "with torch.no_grad():\n",
    "    out, cache = affine_forward(x, W, b)\n",
    "\n",
    "expected_result = torch.load(f'{control_folder}/affine_forward_out.pt')\n",
    "\n",
    "assert torch.allclose(out, expected_result)\n"
   ]
  },
  {
   "cell_type": "code",
   "execution_count": 80,
   "metadata": {},
   "outputs": [
    {
     "name": "stderr",
     "output_type": "stream",
     "text": [
      "/var/folders/0z/xkz34clj6158f543g3k49h3m0000gn/T/ipykernel_23961/3212648614.py:14: FutureWarning: You are using `torch.load` with `weights_only=False` (the current default value), which uses the default pickle module implicitly. It is possible to construct malicious pickle data which will execute arbitrary code during unpickling (See https://github.com/pytorch/pytorch/blob/main/SECURITY.md#untrusted-models for more details). In a future release, the default value for `weights_only` will be flipped to `True`. This limits the functions that could be executed during unpickling. Arbitrary objects will no longer be allowed to be loaded via this mode unless they are explicitly allowlisted by the user via `torch.serialization.add_safe_globals`. We recommend you start setting `weights_only=True` for any use case where you don't have full control of the loaded file. Please open an issue on GitHub for any issues related to this experimental feature.\n",
      "  expected_dx = torch.load(f'{control_folder}/affine_backward_dx.pt')\n",
      "/var/folders/0z/xkz34clj6158f543g3k49h3m0000gn/T/ipykernel_23961/3212648614.py:15: FutureWarning: You are using `torch.load` with `weights_only=False` (the current default value), which uses the default pickle module implicitly. It is possible to construct malicious pickle data which will execute arbitrary code during unpickling (See https://github.com/pytorch/pytorch/blob/main/SECURITY.md#untrusted-models for more details). In a future release, the default value for `weights_only` will be flipped to `True`. This limits the functions that could be executed during unpickling. Arbitrary objects will no longer be allowed to be loaded via this mode unless they are explicitly allowlisted by the user via `torch.serialization.add_safe_globals`. We recommend you start setting `weights_only=True` for any use case where you don't have full control of the loaded file. Please open an issue on GitHub for any issues related to this experimental feature.\n",
      "  expected_dW = torch.load(f'{control_folder}/affine_backward_dW.pt')\n",
      "/var/folders/0z/xkz34clj6158f543g3k49h3m0000gn/T/ipykernel_23961/3212648614.py:16: FutureWarning: You are using `torch.load` with `weights_only=False` (the current default value), which uses the default pickle module implicitly. It is possible to construct malicious pickle data which will execute arbitrary code during unpickling (See https://github.com/pytorch/pytorch/blob/main/SECURITY.md#untrusted-models for more details). In a future release, the default value for `weights_only` will be flipped to `True`. This limits the functions that could be executed during unpickling. Arbitrary objects will no longer be allowed to be loaded via this mode unless they are explicitly allowlisted by the user via `torch.serialization.add_safe_globals`. We recommend you start setting `weights_only=True` for any use case where you don't have full control of the loaded file. Please open an issue on GitHub for any issues related to this experimental feature.\n",
      "  expected_db = torch.load(f'{control_folder}/affine_backward_db.pt')\n"
     ]
    }
   ],
   "source": [
    "from feed_forward import affine_backward\n",
    "\n",
    "# Check for affine_backward\n",
    "\n",
    "N = 3\n",
    "c_in = 16\n",
    "c_out = 10\n",
    "\n",
    "dout = torch.linspace(-4, 4, N*c_out).reshape(N, c_out)\n",
    "\n",
    "with torch.no_grad():\n",
    "    dx, dW, db = affine_backward(dout, cache)\n",
    "\n",
    "expected_dx = torch.load(f'{control_folder}/affine_backward_dx.pt')\n",
    "expected_dW = torch.load(f'{control_folder}/affine_backward_dW.pt')\n",
    "expected_db = torch.load(f'{control_folder}/affine_backward_db.pt')\n",
    "\n",
    "assert torch.allclose(dx, expected_dx)\n",
    "assert torch.allclose(dW, expected_dW)\n",
    "assert torch.allclose(db, expected_db)"
   ]
  },
  {
   "cell_type": "markdown",
   "metadata": {},
   "source": [
    "Next, implement `relu_forward` and `relu_backward`. We will use ReLU as the activation function for the hidden layer. Run the following code cells to check your implementation."
   ]
  },
  {
   "cell_type": "code",
   "execution_count": 81,
   "metadata": {},
   "outputs": [
    {
     "name": "stderr",
     "output_type": "stream",
     "text": [
      "/var/folders/0z/xkz34clj6158f543g3k49h3m0000gn/T/ipykernel_23961/1107432160.py:12: FutureWarning: You are using `torch.load` with `weights_only=False` (the current default value), which uses the default pickle module implicitly. It is possible to construct malicious pickle data which will execute arbitrary code during unpickling (See https://github.com/pytorch/pytorch/blob/main/SECURITY.md#untrusted-models for more details). In a future release, the default value for `weights_only` will be flipped to `True`. This limits the functions that could be executed during unpickling. Arbitrary objects will no longer be allowed to be loaded via this mode unless they are explicitly allowlisted by the user via `torch.serialization.add_safe_globals`. We recommend you start setting `weights_only=True` for any use case where you don't have full control of the loaded file. Please open an issue on GitHub for any issues related to this experimental feature.\n",
      "  expected_result = torch.load(f'{control_folder}/relu_forward_out.pt')\n"
     ]
    }
   ],
   "source": [
    "from feed_forward import relu_forward\n",
    "\n",
    "# Check for relu_forward\n",
    "\n",
    "N = 5\n",
    "c = 10\n",
    "x = torch.linspace(-4, 4, N*c).reshape((N, c))\n",
    "\n",
    "with torch.no_grad():\n",
    "    out, cache = relu_forward(x)\n",
    "\n",
    "expected_result = torch.load(f'{control_folder}/relu_forward_out.pt')\n",
    "\n",
    "assert torch.allclose(expected_result, out)"
   ]
  },
  {
   "cell_type": "code",
   "execution_count": 82,
   "metadata": {},
   "outputs": [
    {
     "name": "stderr",
     "output_type": "stream",
     "text": [
      "/var/folders/0z/xkz34clj6158f543g3k49h3m0000gn/T/ipykernel_23961/1491538595.py:12: FutureWarning: You are using `torch.load` with `weights_only=False` (the current default value), which uses the default pickle module implicitly. It is possible to construct malicious pickle data which will execute arbitrary code during unpickling (See https://github.com/pytorch/pytorch/blob/main/SECURITY.md#untrusted-models for more details). In a future release, the default value for `weights_only` will be flipped to `True`. This limits the functions that could be executed during unpickling. Arbitrary objects will no longer be allowed to be loaded via this mode unless they are explicitly allowlisted by the user via `torch.serialization.add_safe_globals`. We recommend you start setting `weights_only=True` for any use case where you don't have full control of the loaded file. Please open an issue on GitHub for any issues related to this experimental feature.\n",
      "  expected_result = torch.load(f'{control_folder}/relu_backward_dx.pt')\n"
     ]
    }
   ],
   "source": [
    "from feed_forward import relu_backward\n",
    "\n",
    "# Check for relu_backward\n",
    "\n",
    "N = 5\n",
    "c = 10\n",
    "dout = torch.linspace(-5, 3, N*c).reshape((N, c))\n",
    "\n",
    "with torch.no_grad():\n",
    "    dx = relu_backward(dout, cache)\n",
    "\n",
    "expected_result = torch.load(f'{control_folder}/relu_backward_dx.pt')\n",
    "\n",
    "\n",
    "assert torch.allclose(expected_result, dx)"
   ]
  },
  {
   "cell_type": "markdown",
   "metadata": {},
   "source": [
    "The last layer we will implement is the sigmoid activation. We will use it to normalize the output of our module to the range [0, 1]. Implement the methods `sigmoid_forward` and `sigmoid_backward`. Use the following code cells to check your implementation."
   ]
  },
  {
   "cell_type": "code",
   "execution_count": 83,
   "metadata": {},
   "outputs": [
    {
     "name": "stderr",
     "output_type": "stream",
     "text": [
      "/var/folders/0z/xkz34clj6158f543g3k49h3m0000gn/T/ipykernel_23961/3031446732.py:12: FutureWarning: You are using `torch.load` with `weights_only=False` (the current default value), which uses the default pickle module implicitly. It is possible to construct malicious pickle data which will execute arbitrary code during unpickling (See https://github.com/pytorch/pytorch/blob/main/SECURITY.md#untrusted-models for more details). In a future release, the default value for `weights_only` will be flipped to `True`. This limits the functions that could be executed during unpickling. Arbitrary objects will no longer be allowed to be loaded via this mode unless they are explicitly allowlisted by the user via `torch.serialization.add_safe_globals`. We recommend you start setting `weights_only=True` for any use case where you don't have full control of the loaded file. Please open an issue on GitHub for any issues related to this experimental feature.\n",
      "  expected_result = torch.load(f'{control_folder}/sigmoid_forward_out.pt')\n"
     ]
    }
   ],
   "source": [
    "from feed_forward import sigmoid_forward\n",
    "\n",
    "# Check for sigmoid_forward\n",
    "\n",
    "N = 5\n",
    "c = 10\n",
    "x = torch.linspace(-4, 4, N*c).reshape((N, c))\n",
    "\n",
    "with torch.no_grad():\n",
    "    out, cache = sigmoid_forward(x)\n",
    "\n",
    "expected_result = torch.load(f'{control_folder}/sigmoid_forward_out.pt')\n",
    "\n",
    "assert torch.allclose(expected_result, out)"
   ]
  },
  {
   "cell_type": "code",
   "execution_count": 84,
   "metadata": {},
   "outputs": [
    {
     "name": "stderr",
     "output_type": "stream",
     "text": [
      "/var/folders/0z/xkz34clj6158f543g3k49h3m0000gn/T/ipykernel_23961/3251491815.py:12: FutureWarning: You are using `torch.load` with `weights_only=False` (the current default value), which uses the default pickle module implicitly. It is possible to construct malicious pickle data which will execute arbitrary code during unpickling (See https://github.com/pytorch/pytorch/blob/main/SECURITY.md#untrusted-models for more details). In a future release, the default value for `weights_only` will be flipped to `True`. This limits the functions that could be executed during unpickling. Arbitrary objects will no longer be allowed to be loaded via this mode unless they are explicitly allowlisted by the user via `torch.serialization.add_safe_globals`. We recommend you start setting `weights_only=True` for any use case where you don't have full control of the loaded file. Please open an issue on GitHub for any issues related to this experimental feature.\n",
      "  expected_result = torch.load(f'{control_folder}/sigmoid_backward_dx.pt')\n"
     ]
    }
   ],
   "source": [
    "from feed_forward import sigmoid_backward\n",
    "\n",
    "# Check for sigmoid_backward\n",
    "\n",
    "N = 5\n",
    "c = 10\n",
    "dout = torch.linspace(-4, 4, N*c).reshape((N, c))\n",
    "\n",
    "with torch.no_grad():\n",
    "    dx = sigmoid_backward(dout, cache)\n",
    "\n",
    "expected_result = torch.load(f'{control_folder}/sigmoid_backward_dx.pt')\n",
    "\n",
    "\n",
    "assert torch.allclose(expected_result, dx)"
   ]
  },
  {
   "cell_type": "markdown",
   "metadata": {},
   "source": [
    "## Loss and Accuracy\n",
    "\n",
    "We will use L2-Loss for our model. This is not the most typical loss for classification (SVM-Loss or Softmax-Loss are more commonly used), but it is easy to understand and works well enough for this simple task. The output of our model will be of shape (N, num_classes). Each entry represents the certainty for this digit. The optimal output for an image labeled as a 2 would then be (omitting the batch dimension):\n",
    "\n",
    "[0, 0, 1, 0, 0, 0, 0, 0, 0, 0] \n",
    "\n",
    "This is called one-hot encoding. You can use `nn.functional.one_hot` for the operation."
   ]
  },
  {
   "cell_type": "markdown",
   "metadata": {},
   "source": [
    "Head over to `feed_forward.py` and implement `l2_loss`. Check your implementation with the following code cell."
   ]
  },
  {
   "cell_type": "code",
   "execution_count": 85,
   "metadata": {},
   "outputs": [
    {
     "name": "stderr",
     "output_type": "stream",
     "text": [
      "/var/folders/0z/xkz34clj6158f543g3k49h3m0000gn/T/ipykernel_23961/3029376101.py:7: FutureWarning: You are using `torch.load` with `weights_only=False` (the current default value), which uses the default pickle module implicitly. It is possible to construct malicious pickle data which will execute arbitrary code during unpickling (See https://github.com/pytorch/pytorch/blob/main/SECURITY.md#untrusted-models for more details). In a future release, the default value for `weights_only` will be flipped to `True`. This limits the functions that could be executed during unpickling. Arbitrary objects will no longer be allowed to be loaded via this mode unless they are explicitly allowlisted by the user via `torch.serialization.add_safe_globals`. We recommend you start setting `weights_only=True` for any use case where you don't have full control of the loaded file. Please open an issue on GitHub for any issues related to this experimental feature.\n",
      "  y_pred = torch.load(f'{control_folder}/l2_loss_y_pred.pt')\n",
      "/var/folders/0z/xkz34clj6158f543g3k49h3m0000gn/T/ipykernel_23961/3029376101.py:8: FutureWarning: You are using `torch.load` with `weights_only=False` (the current default value), which uses the default pickle module implicitly. It is possible to construct malicious pickle data which will execute arbitrary code during unpickling (See https://github.com/pytorch/pytorch/blob/main/SECURITY.md#untrusted-models for more details). In a future release, the default value for `weights_only` will be flipped to `True`. This limits the functions that could be executed during unpickling. Arbitrary objects will no longer be allowed to be loaded via this mode unless they are explicitly allowlisted by the user via `torch.serialization.add_safe_globals`. We recommend you start setting `weights_only=True` for any use case where you don't have full control of the loaded file. Please open an issue on GitHub for any issues related to this experimental feature.\n",
      "  y_label = torch.load(f'{control_folder}/l2_loss_y_label.pt')\n",
      "/var/folders/0z/xkz34clj6158f543g3k49h3m0000gn/T/ipykernel_23961/3029376101.py:13: FutureWarning: You are using `torch.load` with `weights_only=False` (the current default value), which uses the default pickle module implicitly. It is possible to construct malicious pickle data which will execute arbitrary code during unpickling (See https://github.com/pytorch/pytorch/blob/main/SECURITY.md#untrusted-models for more details). In a future release, the default value for `weights_only` will be flipped to `True`. This limits the functions that could be executed during unpickling. Arbitrary objects will no longer be allowed to be loaded via this mode unless they are explicitly allowlisted by the user via `torch.serialization.add_safe_globals`. We recommend you start setting `weights_only=True` for any use case where you don't have full control of the loaded file. Please open an issue on GitHub for any issues related to this experimental feature.\n",
      "  expected_loss = torch.load(f'{control_folder}/l2_loss_loss_value.pt')\n",
      "/var/folders/0z/xkz34clj6158f543g3k49h3m0000gn/T/ipykernel_23961/3029376101.py:14: FutureWarning: You are using `torch.load` with `weights_only=False` (the current default value), which uses the default pickle module implicitly. It is possible to construct malicious pickle data which will execute arbitrary code during unpickling (See https://github.com/pytorch/pytorch/blob/main/SECURITY.md#untrusted-models for more details). In a future release, the default value for `weights_only` will be flipped to `True`. This limits the functions that could be executed during unpickling. Arbitrary objects will no longer be allowed to be loaded via this mode unless they are explicitly allowlisted by the user via `torch.serialization.add_safe_globals`. We recommend you start setting `weights_only=True` for any use case where you don't have full control of the loaded file. Please open an issue on GitHub for any issues related to this experimental feature.\n",
      "  expected_grad = torch.load(f'{control_folder}/l2_loss_grad.pt')\n"
     ]
    }
   ],
   "source": [
    "from feed_forward import l2_loss\n",
    "\n",
    "# Check for l2_loss\n",
    "\n",
    "N = 5\n",
    "num_classes = 12\n",
    "y_pred = torch.load(f'{control_folder}/l2_loss_y_pred.pt')\n",
    "y_label = torch.load(f'{control_folder}/l2_loss_y_label.pt')\n",
    "\n",
    "with torch.no_grad():\n",
    "    loss, grad = l2_loss(y_pred, y_label)\n",
    "\n",
    "expected_loss = torch.load(f'{control_folder}/l2_loss_loss_value.pt')\n",
    "expected_grad = torch.load(f'{control_folder}/l2_loss_grad.pt')\n",
    "\n",
    "assert loss.shape == expected_loss.shape\n",
    "assert grad.shape == expected_grad.shape\n",
    "assert torch.allclose(loss, expected_loss)\n",
    "assert torch.allclose(grad, expected_grad)\n",
    "\n",
    "\n"
   ]
  },
  {
   "cell_type": "markdown",
   "metadata": {},
   "source": [
    "As our last method before going on to the classifier itself, we will implement `calculate_accuracy`. It will be used to calculate the training and validation accuracy during model training. Check your code with the following cell."
   ]
  },
  {
   "cell_type": "code",
   "execution_count": 86,
   "metadata": {},
   "outputs": [
    {
     "name": "stderr",
     "output_type": "stream",
     "text": [
      "/var/folders/0z/xkz34clj6158f543g3k49h3m0000gn/T/ipykernel_23961/1751664579.py:6: FutureWarning: You are using `torch.load` with `weights_only=False` (the current default value), which uses the default pickle module implicitly. It is possible to construct malicious pickle data which will execute arbitrary code during unpickling (See https://github.com/pytorch/pytorch/blob/main/SECURITY.md#untrusted-models for more details). In a future release, the default value for `weights_only` will be flipped to `True`. This limits the functions that could be executed during unpickling. Arbitrary objects will no longer be allowed to be loaded via this mode unless they are explicitly allowlisted by the user via `torch.serialization.add_safe_globals`. We recommend you start setting `weights_only=True` for any use case where you don't have full control of the loaded file. Please open an issue on GitHub for any issues related to this experimental feature.\n",
      "  out = torch.load(f'{control_folder}/calculate_accuracy_out.pt')\n",
      "/var/folders/0z/xkz34clj6158f543g3k49h3m0000gn/T/ipykernel_23961/1751664579.py:7: FutureWarning: You are using `torch.load` with `weights_only=False` (the current default value), which uses the default pickle module implicitly. It is possible to construct malicious pickle data which will execute arbitrary code during unpickling (See https://github.com/pytorch/pytorch/blob/main/SECURITY.md#untrusted-models for more details). In a future release, the default value for `weights_only` will be flipped to `True`. This limits the functions that could be executed during unpickling. Arbitrary objects will no longer be allowed to be loaded via this mode unless they are explicitly allowlisted by the user via `torch.serialization.add_safe_globals`. We recommend you start setting `weights_only=True` for any use case where you don't have full control of the loaded file. Please open an issue on GitHub for any issues related to this experimental feature.\n",
      "  labels = torch.load(f'{control_folder}/calculate_accuracy_labels.pt')\n"
     ]
    }
   ],
   "source": [
    "from feed_forward import calculate_accuracy\n",
    "\n",
    "N = 20\n",
    "num_classes = 4\n",
    "inp = torch.zeros((0,))\n",
    "out = torch.load(f'{control_folder}/calculate_accuracy_out.pt')\n",
    "labels = torch.load(f'{control_folder}/calculate_accuracy_labels.pt')\n",
    "\n",
    "class _DummyModel:\n",
    "    def __init__(self, num_classes):\n",
    "        self.num_classes = num_classes\n",
    "\n",
    "    def forward(self, x):\n",
    "        return out, None\n",
    "model = _DummyModel(num_classes)\n",
    "\n",
    "acc = calculate_accuracy(model, inp, labels)\n",
    "\n",
    "assert torch.allclose(acc, torch.tensor([0.2]))\n",
    "        "
   ]
  },
  {
   "cell_type": "markdown",
   "metadata": {},
   "source": [
    "## Building the Model\n",
    "\n",
    "For the classification, we will build a two-layer feed-forward neural network. The architecture will be the following:\n",
    "\n",
    "(N, d) - Affine - (N, d_hidden) - ReLu - Affine - (N, num_classes) - Sigmoid\n",
    "\n",
    "The bracketed expressions note the shape of the inputs and outputs to the affine layers. The last layer is a sigmoid layer, so that the outputs are normalized between 0 and 1.\n",
    "\n",
    "The two affine layers require parameters (weights and biases). Implement the `__init__` method in the class TwoLayerNet and initialize the weights and biases as following:\n",
    "- Initialize both biases with zeros.\n",
    "- Initialize the weight of the first layer normally distributed with std sqrt(2 / c_in)\n",
    "- Initialize the weight of the second layer normally distributed with std sqrt(2 / (c_in + c_out))\n",
    "\n",
    "where c_in and c_out are the input and output dimensions of the layers respectively.\n",
    "\n",
    "The first variant is called He initialization and is mostly used for layers with ReLU activation, the second is called Xavier Normal and is primarly used for sigmoid and tanh activations. This choice of initialization tries to keep the variance of the output similar to the variance of the input. Proper initializations are crucial to avoid gradient explosion or gradient vanishing. This is particularly important for training deeper networks, and the effect can be mitigated by introducing batch normalization or layer normalization.\n",
    "\n",
    "However, we don't want to focus too much on initialization right. Implement the `__init__` method using the values above and test your code with the following cell. Name your weights 'W1', 'b1', 'W2', and 'b2'."
   ]
  },
  {
   "cell_type": "code",
   "execution_count": 93,
   "metadata": {},
   "outputs": [],
   "source": [
    "from feed_forward import TwoLayerNet\n",
    "\n",
    "inp_dim = 100\n",
    "hidden_dim = 50\n",
    "out_dim = 40\n",
    "\n",
    "model = TwoLayerNet(inp_dim, hidden_dim, out_dim)\n",
    "\n",
    "assert set(model.params.keys()) == {'W1', 'b1', 'W2', 'b2'}\n",
    "\n",
    "for key, param in model.params.items():\n",
    "    if key == 'W1':\n",
    "        correct_std = 0.1414213562373095\n",
    "        assert abs(torch.std(param).item() - correct_std) / correct_std < 7e-2\n",
    "    elif key == 'W2':\n",
    "        correct_std = 0.14907119849998599\n",
    "        assert abs(torch.std(param).item() - correct_std) / correct_std < 7e-2\n",
    "    elif 'b' in key:\n",
    "        assert torch.allclose(param, torch.zeros_like(param))\n",
    "\n",
    "\n",
    "        "
   ]
  },
  {
   "cell_type": "markdown",
   "metadata": {},
   "source": [
    "Next, implement the forward pass of the model. Like the individual layers, it should return the output and a cache object, which will just be a tuple of the caches of all the layers. Check your implementation with the following cell."
   ]
  },
  {
   "cell_type": "code",
   "execution_count": 94,
   "metadata": {},
   "outputs": [
    {
     "name": "stderr",
     "output_type": "stream",
     "text": [
      "/var/folders/0z/xkz34clj6158f543g3k49h3m0000gn/T/ipykernel_23961/3063959918.py:20: FutureWarning: You are using `torch.load` with `weights_only=False` (the current default value), which uses the default pickle module implicitly. It is possible to construct malicious pickle data which will execute arbitrary code during unpickling (See https://github.com/pytorch/pytorch/blob/main/SECURITY.md#untrusted-models for more details). In a future release, the default value for `weights_only` will be flipped to `True`. This limits the functions that could be executed during unpickling. Arbitrary objects will no longer be allowed to be loaded via this mode unless they are explicitly allowlisted by the user via `torch.serialization.add_safe_globals`. We recommend you start setting `weights_only=True` for any use case where you don't have full control of the loaded file. Please open an issue on GitHub for any issues related to this experimental feature.\n",
      "  expected_result = torch.load(f'{control_folder}/model_forward_out.pt')\n"
     ]
    }
   ],
   "source": [
    "old_params = {key: param.clone() for key, param in model.params.items()}\n",
    "\n",
    "N = 5\n",
    "inp_dim = 100\n",
    "hidden_dim = 50\n",
    "out_dim = 40\n",
    "\n",
    "inp = torch.linspace(-2, 2, inp_dim*N).reshape((N, inp_dim))\n",
    "\n",
    "for key, param in model.params.items():\n",
    "    model.params[key] = torch.linspace(-2, 2, torch.numel(param)).reshape(param.shape)\n",
    "\n",
    "with torch.no_grad():\n",
    "    out, _ = model.forward(inp)\n",
    "\n",
    "for key in model.params.keys():\n",
    "    model.params[key] = old_params[key]\n",
    "    \n",
    "\n",
    "expected_result = torch.load(f'{control_folder}/model_forward_out.pt')\n",
    "\n",
    "assert torch.allclose(out, expected_result)\n",
    "\n"
   ]
  },
  {
   "cell_type": "markdown",
   "metadata": {},
   "source": [
    "Now implement the backward pass. This will involve calling the backward passes of the individual layers in reverse order. Check your code with the following cell. Save the gradients of the parameters in the `grads` dictionary. Make sure you use the same keys you used for the parameters."
   ]
  },
  {
   "cell_type": "code",
   "execution_count": 97,
   "metadata": {},
   "outputs": [
    {
     "name": "stderr",
     "output_type": "stream",
     "text": [
      "/var/folders/0z/xkz34clj6158f543g3k49h3m0000gn/T/ipykernel_23961/1011201373.py:18: FutureWarning: You are using `torch.load` with `weights_only=False` (the current default value), which uses the default pickle module implicitly. It is possible to construct malicious pickle data which will execute arbitrary code during unpickling (See https://github.com/pytorch/pytorch/blob/main/SECURITY.md#untrusted-models for more details). In a future release, the default value for `weights_only` will be flipped to `True`. This limits the functions that could be executed during unpickling. Arbitrary objects will no longer be allowed to be loaded via this mode unless they are explicitly allowlisted by the user via `torch.serialization.add_safe_globals`. We recommend you start setting `weights_only=True` for any use case where you don't have full control of the loaded file. Please open an issue on GitHub for any issues related to this experimental feature.\n",
      "  expected_grads = torch.load(f'{control_folder}/model_backward_grads.pt')\n"
     ]
    }
   ],
   "source": [
    "old_params = {key: param.clone() for key, param in model.params.items()}\n",
    "\n",
    "N = 5\n",
    "inp_dim = 100\n",
    "hidden_dim = 50\n",
    "out_dim = 40\n",
    "\n",
    "inp = torch.linspace(-2, 2, inp_dim*N).reshape((N, inp_dim))\n",
    "dout = torch.linspace(-2, 2, out_dim*N).reshape((N, out_dim))\n",
    "\n",
    "for key, param in model.params.items():\n",
    "    model.params[key] = torch.linspace(-2, 2, torch.numel(param)).reshape(param.shape)\n",
    "\n",
    "with torch.no_grad():\n",
    "    out, cache = model.forward(inp)\n",
    "    model.backward(dout, cache)\n",
    "\n",
    "expected_grads = torch.load(f'{control_folder}/model_backward_grads.pt')\n",
    "\n",
    "for key, grad in model.grads.items():\n",
    "    assert torch.allclose(grad, expected_grads[key]), f'Gradient for parameter {key} incorrect.'\n"
   ]
  },
  {
   "cell_type": "markdown",
   "metadata": {},
   "source": [
    "## Training the Classifier\n",
    "\n",
    "We will implement a simple training loop and fit our model to the MNIST dataset of handwritten digits. First, we will load the dataset in."
   ]
  },
  {
   "cell_type": "code",
   "execution_count": 98,
   "metadata": {},
   "outputs": [
    {
     "name": "stdout",
     "output_type": "stream",
     "text": [
      "Downloading http://yann.lecun.com/exdb/mnist/train-images-idx3-ubyte.gz\n",
      "Failed to download (trying next):\n",
      "<urlopen error [Errno 60] Operation timed out>\n",
      "\n",
      "Downloading https://ossci-datasets.s3.amazonaws.com/mnist/train-images-idx3-ubyte.gz\n",
      "Downloading https://ossci-datasets.s3.amazonaws.com/mnist/train-images-idx3-ubyte.gz to ./data/MNIST/raw/train-images-idx3-ubyte.gz\n"
     ]
    },
    {
     "name": "stderr",
     "output_type": "stream",
     "text": [
      "100%|██████████| 9.91M/9.91M [00:00<00:00, 11.8MB/s]\n"
     ]
    },
    {
     "name": "stdout",
     "output_type": "stream",
     "text": [
      "Extracting ./data/MNIST/raw/train-images-idx3-ubyte.gz to ./data/MNIST/raw\n",
      "\n",
      "Downloading http://yann.lecun.com/exdb/mnist/train-labels-idx1-ubyte.gz\n",
      "Failed to download (trying next):\n",
      "<urlopen error [Errno 60] Operation timed out>\n",
      "\n",
      "Downloading https://ossci-datasets.s3.amazonaws.com/mnist/train-labels-idx1-ubyte.gz\n",
      "Downloading https://ossci-datasets.s3.amazonaws.com/mnist/train-labels-idx1-ubyte.gz to ./data/MNIST/raw/train-labels-idx1-ubyte.gz\n"
     ]
    },
    {
     "name": "stderr",
     "output_type": "stream",
     "text": [
      "100%|██████████| 28.9k/28.9k [00:00<00:00, 382kB/s]\n"
     ]
    },
    {
     "name": "stdout",
     "output_type": "stream",
     "text": [
      "Extracting ./data/MNIST/raw/train-labels-idx1-ubyte.gz to ./data/MNIST/raw\n",
      "\n",
      "Downloading http://yann.lecun.com/exdb/mnist/t10k-images-idx3-ubyte.gz\n",
      "Failed to download (trying next):\n",
      "<urlopen error [Errno 60] Operation timed out>\n",
      "\n",
      "Downloading https://ossci-datasets.s3.amazonaws.com/mnist/t10k-images-idx3-ubyte.gz\n",
      "Downloading https://ossci-datasets.s3.amazonaws.com/mnist/t10k-images-idx3-ubyte.gz to ./data/MNIST/raw/t10k-images-idx3-ubyte.gz\n"
     ]
    },
    {
     "name": "stderr",
     "output_type": "stream",
     "text": [
      "100%|██████████| 1.65M/1.65M [00:04<00:00, 368kB/s]\n"
     ]
    },
    {
     "name": "stdout",
     "output_type": "stream",
     "text": [
      "Extracting ./data/MNIST/raw/t10k-images-idx3-ubyte.gz to ./data/MNIST/raw\n",
      "\n",
      "Downloading http://yann.lecun.com/exdb/mnist/t10k-labels-idx1-ubyte.gz\n",
      "Failed to download (trying next):\n",
      "<urlopen error [Errno 60] Operation timed out>\n",
      "\n",
      "Downloading https://ossci-datasets.s3.amazonaws.com/mnist/t10k-labels-idx1-ubyte.gz\n",
      "Downloading https://ossci-datasets.s3.amazonaws.com/mnist/t10k-labels-idx1-ubyte.gz to ./data/MNIST/raw/t10k-labels-idx1-ubyte.gz\n"
     ]
    },
    {
     "name": "stderr",
     "output_type": "stream",
     "text": [
      "100%|██████████| 4.54k/4.54k [00:00<00:00, 1.03MB/s]\n"
     ]
    },
    {
     "name": "stdout",
     "output_type": "stream",
     "text": [
      "Extracting ./data/MNIST/raw/t10k-labels-idx1-ubyte.gz to ./data/MNIST/raw\n",
      "\n"
     ]
    }
   ],
   "source": [
    "\n",
    "# --- Load and Prepare MNIST Dataset ---\n",
    "transform = transforms.Compose([transforms.ToTensor(), transforms.Normalize((0.1307,), (0.3081,))])  \n",
    "\n",
    "# Download and split into training and validation sets\n",
    "train_set = torchvision.datasets.MNIST(\n",
    "    root='./data', train=True, download=True, transform=transform)\n",
    "validation_set = torchvision.datasets.MNIST(\n",
    "    root='./data', train=False, download=True, transform=transform)\n",
    "\n",
    "# Load all training and validation images and labels\n",
    "train_loader = torch.utils.data.DataLoader(train_set, batch_size=len(train_set))\n",
    "validation_loader = torch.utils.data.DataLoader(validation_set, batch_size=len(validation_set))\n",
    "\n",
    "train_images, train_labels = next(iter(train_loader))\n",
    "validation_images, validation_labels = next(iter(validation_loader))\n"
   ]
  },
  {
   "cell_type": "code",
   "execution_count": 116,
   "metadata": {},
   "outputs": [
    {
     "name": "stdout",
     "output_type": "stream",
     "text": [
      "torch.Size([60000, 784]) torch.Size([60000])\n"
     ]
    }
   ],
   "source": [
    "print(train_images.shape, train_labels.shape)"
   ]
  },
  {
   "cell_type": "markdown",
   "metadata": {},
   "source": [
    "Instead of considering the image as a two-dimensional entity, we will flatten it so that it is one large feature vector."
   ]
  },
  {
   "cell_type": "code",
   "execution_count": 117,
   "metadata": {},
   "outputs": [],
   "source": [
    "##########################################################################\n",
    "# TODO: Flatten the train and validation images.                         #\n",
    "##########################################################################\n",
    "\n",
    "train_images = torch.flatten(train_images, start_dim=1)\n",
    "validation_images = torch.flatten(validation_images, start_dim=1)\n",
    "\n",
    "##########################################################################\n",
    "#               END OF YOUR CODE                                         #\n",
    "##########################################################################\n",
    "\n",
    "assert train_images.shape == (60000, 784)\n",
    "assert validation_images.shape == (10000, 784)"
   ]
  },
  {
   "cell_type": "markdown",
   "metadata": {},
   "source": [
    "Build a TwoLayerNet with input and output dimensions fitting to our task. You can choose the hidden dimension, 64 might be a good start."
   ]
  },
  {
   "cell_type": "code",
   "execution_count": 118,
   "metadata": {},
   "outputs": [],
   "source": [
    "model = None\n",
    "\n",
    "##########################################################################\n",
    "# TODO: Initialize the TwoLayerNet by choosing the dimensions correctly. #\n",
    "##########################################################################\n",
    "\n",
    "model = TwoLayerNet(inp_dim=784, hidden_dim=64, out_dim=10)\n",
    "\n",
    "##########################################################################\n",
    "#               END OF YOUR CODE                                         #\n",
    "##########################################################################"
   ]
  },
  {
   "cell_type": "markdown",
   "metadata": {},
   "source": [
    "Use the following code cell to transfer the data and parameters to a GPU for training, if you have a compatible GPU available."
   ]
  },
  {
   "cell_type": "code",
   "execution_count": 119,
   "metadata": {},
   "outputs": [],
   "source": [
    "train_images = train_images.to(device)\n",
    "train_labels = train_labels.to(device)\n",
    "validation_images = validation_images.to(device)\n",
    "validation_labels = validation_labels.to(device)\n",
    "\n",
    "for key, param in model.params.items():\n",
    "    model.params[key] = param.to(device)"
   ]
  },
  {
   "cell_type": "markdown",
   "metadata": {},
   "source": [
    "Now implement the method `train_model`. Instructions for the implementation are placed in the TODO message in the method.\n",
    "Run the following code cell to execute your training. Depending on your chosen hidden_dim, batch_size and learning_rate, you can expect accuracies above 95%."
   ]
  },
  {
   "cell_type": "code",
   "execution_count": 120,
   "metadata": {},
   "outputs": [
    {
     "name": "stdout",
     "output_type": "stream",
     "text": [
      "Train Accuracy: 0.9636666774749756\n",
      "Val Accuracy: 0.9587000012397766\n"
     ]
    }
   ],
   "source": [
    "with torch.no_grad():\n",
    "    train_model(model, train_images, train_labels, validation_images, validation_labels, n_epochs=10, learning_rate=1e-2)"
   ]
  },
  {
   "cell_type": "markdown",
   "metadata": {},
   "source": [
    "We achieved quite a high accuracy, particularly compared to our baseline of about 82% from using the mean images as templates. It's also notable that there is close to no gap between the training and validation accuracy. That means we didn't overfit the dataset. This wouldn't have been probable anyway, given the low capacity and small size of our model. \n",
    "\n",
    "Let's take a look at some of the images we failed to classify correctly."
   ]
  },
  {
   "cell_type": "code",
   "execution_count": 121,
   "metadata": {},
   "outputs": [
    {
     "data": {
      "image/png": "[encoded data removed]",
      "text/plain": [
       "<Figure size 1000x800 with 5 Axes>"
      ]
     },
     "metadata": {},
     "output_type": "display_data"
    },
    {
     "name": "stdout",
     "output_type": "stream",
     "text": [
      "Labels: tensor([4, 8, 7, 7, 2], device='mps:0')\n",
      "Guess: tensor([6, 6, 9, 1, 8], device='mps:0')\n"
     ]
    }
   ],
   "source": [
    "def plot_images(images, nrows=None, ncols=None):\n",
    "    if ncols is None:\n",
    "        ncols = min(len(images), 5)\n",
    "    if nrows is None:\n",
    "        nrows = math.ceil(len(images) / ncols)\n",
    "    fig, axes = plt.subplots(nrows=nrows, ncols=ncols, figsize=(10, 8))\n",
    "\n",
    "    for i, ax in enumerate(axes.flat):\n",
    "        image = images[i].squeeze()\n",
    "        ax.imshow(image, cmap='gray')\n",
    "        ax.axis('off')\n",
    "\n",
    "    plt.tight_layout()\n",
    "    plt.show()\n",
    "    \n",
    "with torch.no_grad():\n",
    "    validation_out, _ = model.forward(validation_images)\n",
    "    validation_guess = torch.argmax(validation_out, dim=-1)\n",
    "\n",
    "    wrong_images = validation_images[validation_guess != validation_labels]\n",
    "    N_wrong = wrong_images.shape[0]\n",
    "    wrong_images = wrong_images.reshape((N_wrong, 28, 28))\n",
    "    wrong_labels = validation_labels[validation_guess != validation_labels]\n",
    "    wrong_guess = validation_guess[validation_guess != validation_labels]\n",
    "\n",
    "    wrong_images = wrong_images.to('cpu')\n",
    "\n",
    "perm = torch.randperm(N_wrong)\n",
    "plot_images(wrong_images[perm[:5]])\n",
    "print(f'Labels: {wrong_labels[perm[:5]]}')\n",
    "print(f'Guess: {wrong_guess[perm[:5]]}')\n",
    "\n"
   ]
  },
  {
   "cell_type": "markdown",
   "metadata": {},
   "source": [
    "Some of the missclassifications you see might be really hard to tell, as the dataset contains some ambiguous numbers. Some of them might be easy to classify correctly for you as a human. A feedforward neural network isn't the typical architecture for image classification anyway (even though it worked quite well on these size-normalized, centered images). Architectures that are more typically used are Convolutional Neural Networks and Image Transformers. We won't go into ConvNets in this series, but Image Transformers use the same attention mechanism we will implement in the next chapter as their core building block. "
   ]
  },
  {
   "cell_type": "markdown",
   "metadata": {},
   "source": [
    "## Embracing Pytorch\n",
    "\n",
    "To close off with this section, let's see how we could have avoided doing the backwards calculation by ourselves with `torch.autograd`. Carefully read through the following notebook we implemented for you."
   ]
  },
  {
   "cell_type": "code",
   "execution_count": 122,
   "metadata": {},
   "outputs": [
    {
     "name": "stdout",
     "output_type": "stream",
     "text": [
      "Relative error on W2: 2.7842972940561594e-06\n",
      "Relative error on b2: 2.406496832918492e-06\n",
      "Relative error on W1: 1.0592406169962487e-06\n",
      "Relative error on b1: 6.975986934776301e-07\n"
     ]
    }
   ],
   "source": [
    "# Select a batch for training\n",
    "data_batch = train_images[:16,...]\n",
    "label_batch = train_labels[:16, ...]\n",
    "\n",
    "# Zero out the gradients for all parameters and telling torch, they need a gradient\n",
    "for key, param in model.params.items():\n",
    "    param.grad = None\n",
    "    param.requires_grad = True\n",
    "\n",
    "# The forward pass goes along as usual\n",
    "out, cache = model.forward(data_batch)\n",
    "\n",
    "# Loss calculation \n",
    "loss, dout = l2_loss(out, label_batch)\n",
    "\n",
    "# This is the pytorch magic: When calling backward on a single-element tensor,\n",
    "#  it will automatically compute the gradients for all tensors in the computational graph\n",
    "#  that require a gradient calculation.\n",
    "loss.backward()\n",
    "\n",
    "# Collecting the gradients calculated by autograd\n",
    "torch_grads = {\n",
    "    key: param.grad for key, param in model.params.items()\n",
    "}\n",
    "\n",
    "# Computing our own gradients for comparison\n",
    "with torch.no_grad():\n",
    "    model.backward(dout, cache)\n",
    "\n",
    "# Comparing our gradients with the model's gradients. The relative errors should be around 1e-6 \n",
    "\n",
    "    for key, grad in model.grads.items():\n",
    "        rel_err = (grad-torch_grads[key]).abs() / (1e-8+torch_grads[key].abs())\n",
    "        mean_rel_err = torch.mean(rel_err).item()\n",
    "        print(f'Relative error on {key}: {mean_rel_err}')\n",
    "\n",
    "\n"
   ]
  },
  {
   "cell_type": "markdown",
   "metadata": {},
   "source": [
    "In general, you won't directly implement the layers of a network either. Pytorch provides modules, like `nn.Linear` for linear layers, that you can stitch together to build a functional model. This is what you will mostly do for the rest of the series, and you can already give it a try by completing this implementation of our simple Two-Layer Network using Pytorch:"
   ]
  },
  {
   "cell_type": "code",
   "execution_count": 123,
   "metadata": {},
   "outputs": [],
   "source": [
    "from torch import nn\n",
    "\n",
    "class TwoLayerPytorch(nn.Module):\n",
    "    def __init__(self, inp_dim, hidden_dim, out_dim):\n",
    "        super().__init__()\n",
    "        \n",
    "        self.linear_1 = nn.Linear(inp_dim, hidden_dim)\n",
    "        self.relu = nn.ReLU()\n",
    "\n",
    "        ##########################################################################\n",
    "        # DONE: Initialize the modules linear_2 and sigmoid, following the       #\n",
    "        #        syntax used for linear_1 and relu above.                        #\n",
    "        ##########################################################################\n",
    "\n",
    "        self.linear_2 = nn.Linear(hidden_dim, out_dim)\n",
    "        self.sigmoid = nn.Sigmoid()\n",
    "\n",
    "        ##########################################################################\n",
    "        #               END OF YOUR CODE                                         #\n",
    "        ##########################################################################\n",
    "\n",
    "    def forward(self, x):\n",
    "        out = None\n",
    "        h = self.relu(self.linear_1(x))\n",
    "\n",
    "        ##########################################################################\n",
    "        # DONE: Complete the forward pass with the layers linear_2 and           #\n",
    "        #        sigmoid, following the syntax used above for the computation    #\n",
    "        #        of the hidden vector.                                           #\n",
    "        ##########################################################################\n",
    "\n",
    "        out = self.sigmoid(self.linear_2(h))\n",
    "\n",
    "        ##########################################################################\n",
    "        #               END OF YOUR CODE                                         #\n",
    "        ##########################################################################\n",
    "\n",
    "        return out\n"
   ]
  },
  {
   "cell_type": "markdown",
   "metadata": {},
   "source": [
    "We can transfer the weights we already trained on our own model to the new pytorch model, by specifying which parameters map to which. We'll do exactly the same thing on a larger scale in Alphafold, to map the pretrained weights from Openfold to our implementation. If you did the implementation of the `__init__` method correct (and you didn't change the size of the hidden layer), this cell should match the keys successfully."
   ]
  },
  {
   "cell_type": "code",
   "execution_count": 124,
   "metadata": {},
   "outputs": [
    {
     "data": {
      "text/plain": [
       "<All keys matched successfully>"
      ]
     },
     "execution_count": 124,
     "metadata": {},
     "output_type": "execute_result"
    }
   ],
   "source": [
    "key_map = {\n",
    "    'W1': 'linear_1.weight',\n",
    "    'b1': 'linear_1.bias',\n",
    "    'W2': 'linear_2.weight',\n",
    "    'b2': 'linear_2.bias',\n",
    "}\n",
    "\n",
    "state_dict = {\n",
    "    key_map[key]: param for key, param in model.params.items()\n",
    "}\n",
    "\n",
    "pt_model = TwoLayerPytorch(784, 64, 10)\n",
    "pt_model.load_state_dict(state_dict)"
   ]
  },
  {
   "cell_type": "markdown",
   "metadata": {},
   "source": [
    "Now that we loaded the keys in, the new model should behave exactly like our old model:"
   ]
  },
  {
   "cell_type": "code",
   "execution_count": 125,
   "metadata": {},
   "outputs": [],
   "source": [
    "x = train_images[:16, ...]\n",
    "\n",
    "x = x.to(device)\n",
    "pt_model.to(device)\n",
    "\n",
    "with torch.no_grad():\n",
    "    y_1, cache = model.forward(x)\n",
    "    y_2 = pt_model(x)\n",
    "\n",
    "assert torch.allclose(y_1, y_2)"
   ]
  },
  {
   "cell_type": "markdown",
   "metadata": {},
   "source": [
    "## Conclusion\n",
    "\n",
    "In this chapter, we have seen the basic mechanism of building and training a neural network. This section was kept really short, as we won't have to deal with training ourselves in our AlphaFold implementation. Training a model as big as AlphaFold would be infeasible on personal machines, and renting compute on this scale is really expensive. Also, our code won't be close to being optimized enough to allow for training it (even though theoretically, with torch.autograd, our implementation of the forward pass would allow us to do the full training). \n",
    "\n",
    "Still, there is so much more to discover in machine learning and training neural networks. For example, our training using stochastic gradient descent would typically be replaced by another optimization like Nesterov Momentum or Adam (both have the effect of putting more emphasis on weight changes that are consistent, and that aren't just reverted in the next batch). AlphaFold for example uses Adam for optimization during training. Also, there are many more layers that are really useful. The AlphaFold architecture for example uses dropout (randomly setting a set of values to zero during training, no effect during inference) and LayerNormalization (shifting and scaling the activations of a layer so that they have mean 0 and std 1). \n",
    "\n",
    "We won't implement any more of these here, but there are great resources online. If you still have Machine-Learning energy left after or during this series, check out the CS231n course from Stanford. The assignments from their offering in 2023 are freely available [here](https://github.com/cs231n/cs231n.github.io/tree/master/assignments/2023). You can find lecture slides and videos from previous offerings online. Assignment 1 is basically an improved and more extensive version of this notebook. More recent videos with similar topics were uploaded by Justin Johnson from the University of Michigan [here](https://youtube.com/playlist?list=PL5-TkQAfAZFbzxjBHtzdVCWE0Zbhomg7r&si=fCgVj8DhU1kTidVN). Both are great for getting a deeper introduction to machine learning, specifically Computer Vision.\n",
    "\n",
    "For now, we will leave it here and go on to our next, shorter chapter, where we will implement our first primitive for AlphaFold: MultiHeadAttention"
   ]
  }
 ],
 "metadata": {
  "kernelspec": {
   "display_name": "alphafold",
   "language": "python",
   "name": "python3"
  },
  "language_info": {
   "codemirror_mode": {
    "name": "ipython",
    "version": 3
   },
   "file_extension": ".py",
   "mimetype": "text/x-python",
   "name": "python",
   "nbconvert_exporter": "python",
   "pygments_lexer": "ipython3",
   "version": "3.9.6"
  }
 },
 "nbformat": 4,
 "nbformat_minor": 2
}
